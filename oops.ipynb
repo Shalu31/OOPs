{
  "nbformat": 4,
  "nbformat_minor": 0,
  "metadata": {
    "colab": {
      "provenance": [],
      "authorship_tag": "ABX9TyMF6u7nUoxLQxhLUiXSO1A+",
      "include_colab_link": true
    },
    "kernelspec": {
      "name": "python3",
      "display_name": "Python 3"
    },
    "language_info": {
      "name": "python"
    }
  },
  "cells": [
    {
      "cell_type": "markdown",
      "metadata": {
        "id": "view-in-github",
        "colab_type": "text"
      },
      "source": [
        "<a href=\"https://colab.research.google.com/github/Shalu31/OOPs/blob/main/oops.ipynb\" target=\"_parent\"><img src=\"https://colab.research.google.com/assets/colab-badge.svg\" alt=\"Open In Colab\"/></a>"
      ]
    },
    {
      "cell_type": "code",
      "execution_count": null,
      "metadata": {
        "colab": {
          "base_uri": "https://localhost:8080/"
        },
        "id": "_WrIPvlrBow4",
        "outputId": "60474eee-e2e2-4b38-d6ca-34aa131e13bf"
      },
      "outputs": [
        {
          "output_type": "stream",
          "name": "stdout",
          "text": [
            "101 shalu\n"
          ]
        }
      ],
      "source": [
        "class student:\n",
        "  def inputdata(self):\n",
        "    self.roll = 101\n",
        "    self.name = \"shalu\"\n",
        "  def display(self):\n",
        "    print(self.roll,self.name)\n",
        "s = student()\n",
        "s.inputdata()\n",
        "s.display()\n",
        "\n"
      ]
    },
    {
      "cell_type": "code",
      "source": [],
      "metadata": {
        "id": "Tg7RM83LCahe"
      },
      "execution_count": null,
      "outputs": []
    },
    {
      "cell_type": "code",
      "source": [
        "##call automatically is called constructor"
      ],
      "metadata": {
        "id": "T4oHbJZVCfsq"
      },
      "execution_count": null,
      "outputs": []
    },
    {
      "cell_type": "code",
      "source": [
        "class student:\n",
        "  def __init__(self):\n",
        "    self.roll = 101\n",
        "    self.name = \"shalu\"\n",
        "  def display(self):\n",
        "    print(self.roll,self.name)\n",
        "s = student()\n",
        "s.roll\n",
        "s.name\n",
        "#type 1 no argumented constructor\n"
      ],
      "metadata": {
        "colab": {
          "base_uri": "https://localhost:8080/",
          "height": 36
        },
        "id": "IaRjJ3rLCs7n",
        "outputId": "7d5b42df-071d-4d3e-d5cf-74464955e407"
      },
      "execution_count": null,
      "outputs": [
        {
          "output_type": "execute_result",
          "data": {
            "text/plain": [
              "'shalu'"
            ],
            "application/vnd.google.colaboratory.intrinsic+json": {
              "type": "string"
            }
          },
          "metadata": {},
          "execution_count": 29
        }
      ]
    },
    {
      "cell_type": "code",
      "source": [
        "# it is a special method which is used assign initial value to object\n",
        "#types\n",
        "# 1.no argument consructor 2.parameterized constructor"
      ],
      "metadata": {
        "id": "ZghtIJcgC6_O"
      },
      "execution_count": null,
      "outputs": []
    },
    {
      "cell_type": "code",
      "source": [
        "class student:\n",
        "  def __init__(self,roll,name):\n",
        "    self.roll = roll\n",
        "    self.name = name\n",
        "  def display(self):\n",
        "    print(self.roll,self.name)\n",
        "roll = int(input(\"enter the roll number:\"))\n",
        "name = input(\"enter the name:\")\n",
        "s = student(roll,name)\n",
        "s.display()\n"
      ],
      "metadata": {
        "colab": {
          "base_uri": "https://localhost:8080/"
        },
        "id": "8fbxT5vpFSNE",
        "outputId": "8abebe60-b392-4210-de99-cfdadef5b788"
      },
      "execution_count": null,
      "outputs": [
        {
          "output_type": "stream",
          "name": "stdout",
          "text": [
            "enter the roll number:4\n",
            "enter the name:ee\n",
            "4 ee\n"
          ]
        }
      ]
    },
    {
      "cell_type": "code",
      "source": [
        "# display roll,name of100 student using constructor"
      ],
      "metadata": {
        "id": "YdAocWqZG8Uf"
      },
      "execution_count": null,
      "outputs": []
    },
    {
      "cell_type": "code",
      "source": [
        "class student:\n",
        "  def __init__(self,roll,name):\n",
        "    self.roll = roll\n",
        "    self.name = name\n",
        "  def display(self):\n",
        "    print(self.roll,self.name)\n",
        "L = []\n",
        "for i in range(3):\n",
        "  roll = int(input(\"enter the roll number:\"))\n",
        "  name = input(\"enter the name:\")\n",
        "  s = student(roll,name)\n",
        "  L.append(s)\n",
        "for i in range(3):\n",
        "  L[i].display()"
      ],
      "metadata": {
        "colab": {
          "base_uri": "https://localhost:8080/"
        },
        "id": "esffcq92HNKf",
        "outputId": "8f61fdc8-e12d-4e09-beba-5836652a7fcc"
      },
      "execution_count": null,
      "outputs": [
        {
          "output_type": "stream",
          "name": "stdout",
          "text": [
            "enter the roll number:3\n",
            "enter the name:dd\n",
            "enter the roll number:4\n",
            "enter the name:rr\n",
            "enter the roll number:99\n",
            "enter the name:e\n",
            "3 dd\n",
            "4 rr\n",
            "99 e\n"
          ]
        }
      ]
    },
    {
      "cell_type": "markdown",
      "source": [
        "destructor------------destuctor is a special method called when an object is destroyed"
      ],
      "metadata": {
        "id": "4jW05GdVLcsV"
      }
    },
    {
      "cell_type": "markdown",
      "source": [
        "memory management in python is fully automatic---garbage collector runs at background of every python program and free the object which are useless"
      ],
      "metadata": {
        "id": "WMXCaKtDL053"
      }
    },
    {
      "cell_type": "code",
      "source": [
        "class Test:\n",
        "  def __init__(self):\n",
        "    print(\"Object created\")\n",
        "  def __del__(self):\n",
        "    print(\"object is destroyed\")\n",
        "obj = Test() # constructor call\n",
        "del obj   #destructor call"
      ],
      "metadata": {
        "colab": {
          "base_uri": "https://localhost:8080/"
        },
        "id": "W8e-h0SjLQ4E",
        "outputId": "9261d6d1-7e9c-4155-be89-ad4dba75afac"
      },
      "execution_count": null,
      "outputs": [
        {
          "output_type": "stream",
          "name": "stdout",
          "text": [
            "Object created\n",
            "object is destroyed\n"
          ]
        }
      ]
    },
    {
      "cell_type": "code",
      "source": [],
      "metadata": {
        "id": "6dRKoBdZOCTN"
      },
      "execution_count": null,
      "outputs": []
    },
    {
      "cell_type": "markdown",
      "source": [
        "#inheritance -- properties of paren will be transmitted to children\n",
        "adv -- code reusability\n",
        "types\n",
        "1.single inheritance\n",
        "2.multi level inheritance\n",
        "3.multiple\n",
        "4.hierachical\n",
        "5.hybrid"
      ],
      "metadata": {
        "id": "V3UfyXOPOicL"
      }
    },
    {
      "cell_type": "markdown",
      "source": [
        "#Single inheritance\n",
        "one parents and one child"
      ],
      "metadata": {
        "id": "AljTLSjdQW0o"
      }
    },
    {
      "cell_type": "code",
      "source": [
        "class A:\n",
        "  def show(self):\n",
        "    print(\"Parent class\")\n",
        "class B(A):\n",
        "  def display(self):\n",
        "    print(\"child class\")\n",
        "obj = B()\n",
        "obj.show()\n",
        "obj.display()"
      ],
      "metadata": {
        "colab": {
          "base_uri": "https://localhost:8080/"
        },
        "id": "l1ZnUg5YQG7j",
        "outputId": "0163a736-37ea-46b4-8bfe-575f1fdc0939"
      },
      "execution_count": null,
      "outputs": [
        {
          "output_type": "stream",
          "name": "stdout",
          "text": [
            "Parent class\n",
            "child class\n"
          ]
        }
      ]
    },
    {
      "cell_type": "markdown",
      "source": [],
      "metadata": {
        "id": "8-qFpgIaOd-K"
      }
    },
    {
      "cell_type": "code",
      "source": [
        "class A:\n",
        "  def inputx(self,x):\n",
        "    self.x = x\n",
        "class B(A):\n",
        "  def inputy(self,y):\n",
        "    self.y = y\n",
        "  def add(self):\n",
        "    self.z = self.x+self.y\n",
        "    print(self.z)\n",
        "obj = B()\n",
        "obj.inputx(10)\n",
        "obj.inputy(40)\n",
        "obj.add()"
      ],
      "metadata": {
        "colab": {
          "base_uri": "https://localhost:8080/"
        },
        "id": "Ywjo_-71RFcZ",
        "outputId": "3b1f664f-485f-452f-a4fe-8db3a8576ab9"
      },
      "execution_count": null,
      "outputs": [
        {
          "output_type": "stream",
          "name": "stdout",
          "text": [
            "50\n"
          ]
        }
      ]
    },
    {
      "cell_type": "markdown",
      "source": [
        "#method overriding ---- when parent class and child class contain same method called overriding"
      ],
      "metadata": {
        "id": "K0FnpehQSSFJ"
      }
    },
    {
      "cell_type": "code",
      "source": [
        "class A:\n",
        "  def show(self):\n",
        "    print(\"Parent class\")\n",
        "class B(A):\n",
        "  def show(self):\n",
        "    print(\"child class\")\n",
        "obj = B()\n",
        "obj.show()"
      ],
      "metadata": {
        "colab": {
          "base_uri": "https://localhost:8080/"
        },
        "id": "zFIgI-9QR7j2",
        "outputId": "71b17813-214b-4516-d23b-aaadc78c3b51"
      },
      "execution_count": null,
      "outputs": [
        {
          "output_type": "stream",
          "name": "stdout",
          "text": [
            "child class\n"
          ]
        }
      ]
    },
    {
      "cell_type": "code",
      "source": [
        "class A:\n",
        "  def show(self):\n",
        "    print(\"Parent class\")\n",
        "class B(A):\n",
        "  def show(self):\n",
        "    print(\"child class\")\n",
        "obj = B()\n",
        "A.show(obj)\n",
        "B.show(obj)"
      ],
      "metadata": {
        "colab": {
          "base_uri": "https://localhost:8080/"
        },
        "id": "m6ICHCKzDlVK",
        "outputId": "e0c1e210-f7a3-416d-bf3d-143a7eb87b68"
      },
      "execution_count": null,
      "outputs": [
        {
          "output_type": "stream",
          "name": "stdout",
          "text": [
            "Parent class\n",
            "child class\n"
          ]
        }
      ]
    },
    {
      "cell_type": "code",
      "source": [
        "class A:\n",
        "  def show(self):\n",
        "    print(\"Parent class\")\n",
        "class B(A):\n",
        "  def show(self):\n",
        "    print(\"child class\")\n",
        "    super().show()\n",
        "obj = B()\n",
        "obj.show()"
      ],
      "metadata": {
        "colab": {
          "base_uri": "https://localhost:8080/"
        },
        "id": "tUNMsftPD6GL",
        "outputId": "b39957ff-7c83-4998-a5b5-432224e9158e"
      },
      "execution_count": null,
      "outputs": [
        {
          "output_type": "stream",
          "name": "stdout",
          "text": [
            "child class\n",
            "Parent class\n"
          ]
        }
      ]
    },
    {
      "cell_type": "markdown",
      "source": [
        "#multilevel inheritance"
      ],
      "metadata": {
        "id": "8iWU-6U5EODf"
      }
    },
    {
      "cell_type": "code",
      "source": [
        "class A:\n",
        "  def inputx(self,x):\n",
        "    self.x = x\n",
        "class B(A):\n",
        "  def inputy(self,y):\n",
        "    self.y = y\n",
        "class C(B):\n",
        "  def add(self):\n",
        "    self.z = self.x+self.y\n",
        "    print(self.z)\n",
        "obj = C()\n",
        "obj.inputx(10)\n",
        "obj.inputy(299)\n",
        "obj.add()\n"
      ],
      "metadata": {
        "colab": {
          "base_uri": "https://localhost:8080/"
        },
        "id": "cAYWKqjsENbB",
        "outputId": "1db7aecb-d8f0-466e-9c7e-c34436640731"
      },
      "execution_count": null,
      "outputs": [
        {
          "output_type": "stream",
          "name": "stdout",
          "text": [
            "309\n"
          ]
        }
      ]
    },
    {
      "cell_type": "code",
      "source": [
        "class A:\n",
        "  def inputx(self,x):\n",
        "    self.x = x\n",
        "class B(A):\n",
        "  def inputy(self,y):\n",
        "    self.y = y\n",
        "class C(B):\n",
        "  def add(self):\n",
        "    self.z = self.x+self.y\n",
        "    print(self.z)\n",
        "class D(B):\n",
        "  def sub(self):\n",
        "    self.z = self.x-self.y\n",
        "    print(self.z)\n",
        "obj = D()\n",
        "\n",
        "obj.inputx(10)\n",
        "obj.inputy(299)\n",
        "obj.sub()\n"
      ],
      "metadata": {
        "colab": {
          "base_uri": "https://localhost:8080/"
        },
        "id": "KgFVs7lMEz2A",
        "outputId": "83de4858-f323-4307-fd7c-97443258d692"
      },
      "execution_count": null,
      "outputs": [
        {
          "output_type": "stream",
          "name": "stdout",
          "text": [
            "-289\n"
          ]
        }
      ]
    },
    {
      "cell_type": "code",
      "source": [
        "class A:\n",
        "  def show(self):\n",
        "    print(\"class A\")\n",
        "class B(A):\n",
        "  def show(self):\n",
        "    print(\"class B\")\n",
        "    super().show()\n",
        "class C(B):\n",
        "  def show(self):\n",
        "    print(\"class C\")\n",
        "    super().show()\n",
        "obj = C()\n",
        "obj.show()"
      ],
      "metadata": {
        "colab": {
          "base_uri": "https://localhost:8080/"
        },
        "id": "yQZxpW89FjUI",
        "outputId": "c1c7b1e2-2951-4bf1-e50f-3a4dd97739c3"
      },
      "execution_count": null,
      "outputs": [
        {
          "output_type": "stream",
          "name": "stdout",
          "text": [
            "class C\n",
            "class B\n",
            "class A\n"
          ]
        }
      ]
    },
    {
      "cell_type": "markdown",
      "source": [
        "#multiple inheritance\n",
        "when a class is derived from  more than one parent"
      ],
      "metadata": {
        "id": "zvL9F7fKOdTr"
      }
    },
    {
      "cell_type": "code",
      "source": [],
      "metadata": {
        "id": "Eo0Tjk8pOUPo"
      },
      "execution_count": null,
      "outputs": []
    }
  ]
}